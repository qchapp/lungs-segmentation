{
 "cells": [
  {
   "cell_type": "markdown",
   "metadata": {},
   "source": [
    "### Setup"
   ]
  },
  {
   "cell_type": "code",
   "execution_count": 2,
   "metadata": {},
   "outputs": [],
   "source": [
    "import torch\n",
    "from torch import nn\n",
    "from torch.utils.data import DataLoader\n",
    "from torchvision.transforms import ToTensor, RandomRotation, Compose\n",
    "from dataloader import CustomImageDataset\n",
    "from training_model import UNet\n",
    "from utils.utils import write, plot, json_creator, write_time_taken"
   ]
  },
  {
   "cell_type": "markdown",
   "metadata": {},
   "source": [
    "### Parameters"
   ]
  },
  {
   "cell_type": "code",
   "execution_count": 4,
   "metadata": {},
   "outputs": [
    {
     "name": "stdout",
     "output_type": "stream",
     "text": [
      "Using cuda device\n"
     ]
    }
   ],
   "source": [
    "NAME = \"all_data_100epochs_1024bottleneck_with_1e-4_L2reg_3\"\n",
    "LEARNING_RATE = 1e-3\n",
    "BATCH_SIZE = 1\n",
    "EPOCHS = 100\n",
    "BOTTLENECK = 1024\n",
    "CHECKPOINTS_PATH = f\"checkpoints1/{NAME}.pt\"\n",
    "BEST_CHECKPOINTS_PATH = f\"checkpoints1/{NAME}_best.pt\"\n",
    "PLOT_PATH = f\"loss/{NAME}.png\"\n",
    "OUTPUT_PATH = f\"outputs/{NAME}\"\n",
    "\n",
    "device = (\n",
    "    \"cuda\"\n",
    "    if torch.cuda.is_available()\n",
    "    else \"mps\"\n",
    "    if torch.backends.mps.is_available()\n",
    "    else \"cpu\"\n",
    ")\n",
    "print(f\"Using {device} device\")"
   ]
  },
  {
   "cell_type": "markdown",
   "metadata": {},
   "source": [
    "### Dataloader"
   ]
  },
  {
   "cell_type": "code",
   "execution_count": 6,
   "metadata": {},
   "outputs": [
    {
     "name": "stdout",
     "output_type": "stream",
     "text": [
      "Batch shape: torch.Size([1, 1, 128, 128, 128])\n",
      "Number of training data: 351\n",
      "Number of test data: 66\n"
     ]
    }
   ],
   "source": [
    "training_transformations = Compose([\n",
    "    ToTensor(),\n",
    "    RandomRotation(20)\n",
    "])\n",
    "\n",
    "training_data = CustomImageDataset(\"dataset.csv\", \"../../data\", training_transformations, training_transformations)\n",
    "test_data = CustomImageDataset(\"dataset.csv\", \"../../data\", ToTensor(), ToTensor(), is_training=False)\n",
    "\n",
    "train_dataloader = DataLoader(training_data, batch_size=BATCH_SIZE, shuffle=True)\n",
    "test_dataloader = DataLoader(test_data, batch_size=BATCH_SIZE, shuffle=True)\n",
    "\n",
    "train_features, train_labels = next(iter(train_dataloader))\n",
    "print(f\"Batch shape: {train_features.size()}\")\n",
    "print(f\"Number of training data: {len(train_dataloader.dataset)}\")\n",
    "print(f\"Number of test data: {len(test_dataloader.dataset)}\")"
   ]
  },
  {
   "cell_type": "markdown",
   "metadata": {},
   "source": [
    "### Model"
   ]
  },
  {
   "cell_type": "code",
   "execution_count": 4,
   "metadata": {},
   "outputs": [],
   "source": [
    "model = UNet(BOTTLENECK, n_channels=1, n_class=1).to(device)\n",
    "# print(model)"
   ]
  },
  {
   "cell_type": "markdown",
   "metadata": {},
   "source": [
    "### Optimizing model parameters"
   ]
  },
  {
   "cell_type": "code",
   "execution_count": null,
   "metadata": {},
   "outputs": [
    {
     "name": "stdout",
     "output_type": "stream",
     "text": [
      "Started training!\n"
     ]
    }
   ],
   "source": [
    "# import gc\n",
    "# gc.collect()\n",
    "torch.cuda.empty_cache()\n",
    "\n",
    "def train_loop(dataloader, model, loss_fn, optimizer, loss_val):\n",
    "    # Set the model to training mode - important for batch normalization and dropout layers\n",
    "    model.train()\n",
    "    size = len(dataloader.dataset)\n",
    "    test_loss = 0\n",
    "    for batch, (X, y) in enumerate(dataloader):\n",
    "        X, y = X.to(device), y.to(device)\n",
    "        # Compute prediction and loss\n",
    "        pred = model(X)\n",
    "        \n",
    "        loss = loss_fn(pred, y)\n",
    "\n",
    "        # Backpropagation\n",
    "        loss.backward()\n",
    "        optimizer.step()\n",
    "        optimizer.zero_grad()\n",
    "\n",
    "        loss, current = loss.item(), (batch + 1) * len(X)\n",
    "        test_loss += loss\n",
    "        write(f\"loss: {loss:>7f}  [{current:>5d}/{size:>5d}]\\n\", OUTPUT_PATH)\n",
    "        \n",
    "    test_loss /= len(dataloader)\n",
    "    loss_val.append(test_loss)\n",
    "        \n",
    "\n",
    "\n",
    "def test_loop(dataloader, model, loss_fn, loss_val):\n",
    "    # Set the model to evaluation mode - important for batch normalization and dropout layers\n",
    "    model.eval()\n",
    "    size = len(dataloader.dataset)\n",
    "    num_batches = len(dataloader)\n",
    "    test_loss, correct = 0, 0\n",
    "\n",
    "    # Evaluating the model with torch.no_grad() ensures that no gradients are computed during test mode\n",
    "    # also serves to reduce unnecessary gradient computations and memory usage for tensors with requires_grad=True\n",
    "    with torch.no_grad():\n",
    "        for X, y in dataloader:\n",
    "            X, y = X.to(device), y.to(device)\n",
    "            pred = model(X)\n",
    "            test_loss += loss_fn(pred, y).item()\n",
    "            correct += (pred.argmax(1) == y).type(torch.float).sum().item()\n",
    "\n",
    "    test_loss /= num_batches\n",
    "\n",
    "    if len(loss_val) == 0 or test_loss <= min(loss_val): # save the best epoch checkpoints\n",
    "        torch.save({\n",
    "            'model_state_dict': model.state_dict(),\n",
    "            'optimizer_state_dict': optimizer.state_dict()  \n",
    "            }, BEST_CHECKPOINTS_PATH)\n",
    "\n",
    "    loss_val.append(test_loss)\n",
    "    correct /= size\n",
    "    # write(f\"Test Error: \\n Accuracy: {(100*correct):>0.1f}%, Avg loss: {test_loss:>8f} \\n\", OUTPUT_PATH)\n",
    "    write(f\"Test Error: \\n Avg loss: {test_loss:>8f} \\n\", OUTPUT_PATH)\n",
    "\n",
    "\n",
    "loss_fn = nn.BCELoss()\n",
    "# loss_fn = nn.CrossEntropyLoss()\n",
    "optimizer = torch.optim.Adam(model.parameters(), lr=LEARNING_RATE, weight_decay=1e-4)\n",
    "\n",
    "loss_val_training = []\n",
    "loss_val_validation = []\n",
    "\n",
    "import datetime\n",
    "start = datetime.datetime.now()\n",
    "\n",
    "json_creator(\"training.json\", LEARNING_RATE, BATCH_SIZE, EPOCHS, CHECKPOINTS_PATH, \n",
    "            BEST_CHECKPOINTS_PATH, PLOT_PATH, NAME, BOTTLENECK, len(train_dataloader.dataset))\n",
    "\n",
    "print(\"Started training!\")\n",
    "for epoch in range(1, EPOCHS+1):\n",
    "    write(f\"Epoch {epoch}\\n-------------------------------\\n\", OUTPUT_PATH)\n",
    "    train_loop(train_dataloader, model, loss_fn, optimizer, loss_val_training)\n",
    "    test_loop(test_dataloader, model, loss_fn, loss_val_validation)\n",
    "\n",
    "    plot(loss_val_training, loss_val_validation, epoch, LEARNING_RATE, BATCH_SIZE, EPOCHS, PLOT_PATH)\n",
    "\n",
    "time_taken = str(datetime.datetime.now() - start)\n",
    "write_time_taken(\"training.json\", NAME, time_taken)\n",
    "print(\"Done!\")\n"
   ]
  },
  {
   "cell_type": "markdown",
   "metadata": {},
   "source": [
    "### Save the model at the end"
   ]
  },
  {
   "cell_type": "code",
   "execution_count": null,
   "metadata": {},
   "outputs": [],
   "source": [
    "torch.save({\n",
    "            'model_state_dict': model.state_dict(),\n",
    "            'optimizer_state_dict': optimizer.state_dict()  \n",
    "            }, CHECKPOINTS_PATH)"
   ]
  }
 ],
 "metadata": {
  "kernelspec": {
   "display_name": "Python 3 (ipykernel)",
   "language": "python",
   "name": "python3"
  },
  "language_info": {
   "codemirror_mode": {
    "name": "ipython",
    "version": 3
   },
   "file_extension": ".py",
   "mimetype": "text/x-python",
   "name": "python",
   "nbconvert_exporter": "python",
   "pygments_lexer": "ipython3",
   "version": "3.9.2"
  }
 },
 "nbformat": 4,
 "nbformat_minor": 4
}
