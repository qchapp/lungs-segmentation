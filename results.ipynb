{
 "cells": [
  {
   "cell_type": "markdown",
   "metadata": {},
   "source": [
    "# Results\n",
    "\n",
    "In this notebook we are analysing the results of the project by comparing the classical approaches with the trained model."
   ]
  },
  {
   "cell_type": "markdown",
   "metadata": {},
   "source": [
    "### Setup"
   ]
  },
  {
   "cell_type": "code",
   "execution_count": 11,
   "metadata": {},
   "outputs": [],
   "source": [
    "import napari\n",
    "from pathlib import Path\n",
    "import tifffile\n",
    "from src.UNet_lungs_segmentation.lungs_predict import LungsPredict\n",
    "import numpy as np\n",
    "\n",
    "\"\"\"\n",
    "    Display the given image and its segmentation in Napari.\n",
    "\"\"\"\n",
    "def view(image, out, segmentation):\n",
    "    viewer = napari.view_image(image)\n",
    "    viewer.add_image(out, name=\"lungs prediction\", visible=False)\n",
    "    viewer.add_labels(segmentation, name=\"segmentation\", opacity=0.2)\n",
    "    contour = viewer.add_labels(segmentation, name=\"segmentation contour\")\n",
    "    contour.contour = 2\n",
    "\n",
    "lungs_predict = LungsPredict()"
   ]
  },
  {
   "cell_type": "markdown",
   "metadata": {},
   "source": [
    "### Training of the model \n",
    "After different trainings, we finally choosed the following hyperparameters:\n",
    "- A learning rate of 0.0001\n",
    "- A batch size of 1 (we cannot increase more beacause of the limited memory)\n",
    "- 100 epochs\n",
    "\n",
    "After a training of 21 hours and 31 minutes we get the following loss:<br>\n",
    "\n",
    "<img src=\"images/loss.png\" height=\"400\">"
   ]
  },
  {
   "cell_type": "markdown",
   "metadata": {},
   "source": [
    "# Success of the model"
   ]
  },
  {
   "cell_type": "markdown",
   "metadata": {},
   "source": [
    "### First case of failure comparison\n",
    "Here you can see the segmentation by passing the image to a classical algorithm (the prediction took 37 seconds):<br>\n",
    "<img src=\"images/lungs1.png\" height=\"400\"><br>\n",
    "And here after passing it through the trained model:"
   ]
  },
  {
   "cell_type": "code",
   "execution_count": 12,
   "metadata": {},
   "outputs": [
    {
     "name": "stdout",
     "output_type": "stream",
     "text": [
      "\n",
      "0:00:01.640010\n"
     ]
    }
   ],
   "source": [
    "image = Path(\"../data/925/C38053/01/image.tif\").resolve()\n",
    "image = tifffile.imread(image)\n",
    "\n",
    "out = lungs_predict.predict(image)\n",
    "segmentation = lungs_predict.postprocess(out)\n",
    "\n",
    "view(image, out, segmentation)"
   ]
  },
  {
   "cell_type": "markdown",
   "metadata": {},
   "source": [
    "### Second case of failure comparison\n",
    "Here you can see the segmentation by passing the image to a classical algorithm (the prediction took 34 seconds):<br>\n",
    "<img src=\"images/lungs2.png\" height=\"400\"><br>\n",
    "And here after passing it through the trained model:"
   ]
  },
  {
   "cell_type": "code",
   "execution_count": 13,
   "metadata": {},
   "outputs": [
    {
     "name": "stdout",
     "output_type": "stream",
     "text": [
      "\n",
      "0:00:01.757258\n"
     ]
    }
   ],
   "source": [
    "image = Path(\"../data/1153/C38449/-1/image.tif\").resolve()\n",
    "image = tifffile.imread(image)\n",
    "\n",
    "out = lungs_predict.predict(image)\n",
    "segmentation = lungs_predict.postprocess(out)\n",
    "\n",
    "view(image, out, segmentation)"
   ]
  },
  {
   "cell_type": "markdown",
   "metadata": {},
   "source": [
    "### Third case of failure comparison\n",
    "Here you can see the segmentation by passing the image to a classical algorithm (the prediction took 1 minute and 54 seconds): <br>\n",
    "<img src=\"images/lungs3.png\" height=\"400\"><br>\n",
    "And here after passing it through the trained model:"
   ]
  },
  {
   "cell_type": "code",
   "execution_count": 4,
   "metadata": {},
   "outputs": [],
   "source": [
    "image = Path(\"../data/1351/C40235/00/image.tif\").resolve()\n",
    "image = tifffile.imread(image)\n",
    "\n",
    "out = lungs_predict.predict(image)\n",
    "segmentation = lungs_predict.postprocess(out)\n",
    "\n",
    "view(image, out, segmentation)"
   ]
  },
  {
   "cell_type": "markdown",
   "metadata": {},
   "source": [
    "### Fourth case of failure comparison\n",
    "Here you can see the segmentation by passing the image to a classical algorithm (the prediction took 42 seconds): <br>\n",
    "<img src=\"images/lungs4.png\" height=\"400\"><br>\n",
    "And here after passing it through the trained model:"
   ]
  },
  {
   "cell_type": "code",
   "execution_count": 14,
   "metadata": {},
   "outputs": [
    {
     "name": "stdout",
     "output_type": "stream",
     "text": [
      "\n",
      "0:00:01.919608\n"
     ]
    }
   ],
   "source": [
    "image = Path(\"../data/1234/C39371/-1/image.tif\").resolve()\n",
    "image = tifffile.imread(image)\n",
    "\n",
    "out = lungs_predict.predict(image)\n",
    "segmentation = lungs_predict.postprocess(out)\n",
    "\n",
    "view(image, out, segmentation)"
   ]
  },
  {
   "cell_type": "markdown",
   "metadata": {},
   "source": [
    "# Limitation of the model"
   ]
  },
  {
   "cell_type": "markdown",
   "metadata": {},
   "source": [
    "### First case of limitation\n",
    "Here you can see a case where the segmentation is not working"
   ]
  },
  {
   "cell_type": "code",
   "execution_count": 15,
   "metadata": {},
   "outputs": [
    {
     "name": "stdout",
     "output_type": "stream",
     "text": [
      "\n",
      "0:00:01.414826\n"
     ]
    }
   ],
   "source": [
    "image = Path(\"../data/1351/C40044/02/image.tif\").resolve()\n",
    "image = tifffile.imread(image)\n",
    "\n",
    "out = lungs_predict.predict(image)\n",
    "segmentation = lungs_predict.postprocess(out)\n",
    "\n",
    "view(image, out, segmentation)"
   ]
  },
  {
   "cell_type": "markdown",
   "metadata": {},
   "source": [
    "### Second case of limitation\n",
    "Here you can see another problem: the fact that in images where there is a black background all around the mouse body, the model segments a little too widely and imprecisely in some places. This isn't too bad, because it is better to have a segmentation too wide than to lose some of the lungs. The reason for this is because there were no images of this type in the training set, because the classic algorithms were absolutely unable to locate the lungs and segmented the whole body."
   ]
  },
  {
   "cell_type": "code",
   "execution_count": 16,
   "metadata": {},
   "outputs": [
    {
     "name": "stdout",
     "output_type": "stream",
     "text": [
      "\n",
      "0:00:03.930352\n"
     ]
    }
   ],
   "source": [
    "image = Path(\"../data/1351/C40232/00/image.tif\").resolve()\n",
    "image = tifffile.imread(image)\n",
    "\n",
    "out = lungs_predict.predict(image)\n",
    "segmentation = lungs_predict.postprocess(out)\n",
    "\n",
    "view(image, out, segmentation)"
   ]
  },
  {
   "cell_type": "markdown",
   "metadata": {},
   "source": [
    "The solution to the two problems mentioned above would be a training set with more images covering the edge cases. This would certainly require some images to be annotated by hand to cover certain cases."
   ]
  },
  {
   "cell_type": "code",
   "execution_count": null,
   "metadata": {},
   "outputs": [],
   "source": []
  }
 ],
 "metadata": {
  "kernelspec": {
   "display_name": "Python 3 (ipykernel)",
   "language": "python",
   "name": "python3"
  },
  "language_info": {
   "codemirror_mode": {
    "name": "ipython",
    "version": 3
   },
   "file_extension": ".py",
   "mimetype": "text/x-python",
   "name": "python",
   "nbconvert_exporter": "python",
   "pygments_lexer": "ipython3",
   "version": "3.9.2"
  }
 },
 "nbformat": 4,
 "nbformat_minor": 4
}
